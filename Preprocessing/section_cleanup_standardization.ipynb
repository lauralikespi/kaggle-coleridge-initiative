{
 "cells": [
  {
   "cell_type": "code",
   "execution_count": 51,
   "metadata": {},
   "outputs": [
    {
     "name": "stdout",
     "output_type": "stream",
     "text": [
      "Requirement already satisfied: pickle5 in /Users/s.konkiel/opt/anaconda3/envs/PythonData/lib/python3.8/site-packages (0.0.11)\n",
      "Requirement already satisfied: pandas in /Users/s.konkiel/opt/anaconda3/envs/PythonData/lib/python3.8/site-packages (1.2.1)\n",
      "Requirement already satisfied: nltk in /Users/s.konkiel/opt/anaconda3/envs/PythonData/lib/python3.8/site-packages (3.4.5)\n",
      "Requirement already satisfied: tqdm in /Users/s.konkiel/opt/anaconda3/envs/PythonData/lib/python3.8/site-packages (4.54.1)\n",
      "Requirement already satisfied: regex in /Users/s.konkiel/opt/anaconda3/envs/PythonData/lib/python3.8/site-packages (2021.4.4)\n",
      "Requirement already satisfied: spacy in /Users/s.konkiel/opt/anaconda3/envs/PythonData/lib/python3.8/site-packages (3.0.6)\n",
      "Requirement already satisfied: pytz>=2017.3 in /Users/s.konkiel/opt/anaconda3/envs/PythonData/lib/python3.8/site-packages (from pandas) (2019.3)\n",
      "Requirement already satisfied: python-dateutil>=2.7.3 in /Users/s.konkiel/opt/anaconda3/envs/PythonData/lib/python3.8/site-packages (from pandas) (2.8.1)\n",
      "Requirement already satisfied: numpy>=1.16.5 in /Users/s.konkiel/opt/anaconda3/envs/PythonData/lib/python3.8/site-packages (from pandas) (1.19.2)\n",
      "Requirement already satisfied: six in /Users/s.konkiel/opt/anaconda3/envs/PythonData/lib/python3.8/site-packages (from nltk) (1.15.0)\n",
      "Requirement already satisfied: srsly<3.0.0,>=2.4.1 in /Users/s.konkiel/opt/anaconda3/envs/PythonData/lib/python3.8/site-packages (from spacy) (2.4.1)\n",
      "Requirement already satisfied: preshed<3.1.0,>=3.0.2 in /Users/s.konkiel/opt/anaconda3/envs/PythonData/lib/python3.8/site-packages (from spacy) (3.0.5)\n",
      "Requirement already satisfied: pydantic<1.8.0,>=1.7.1 in /Users/s.konkiel/opt/anaconda3/envs/PythonData/lib/python3.8/site-packages (from spacy) (1.7.3)\n",
      "Requirement already satisfied: requests<3.0.0,>=2.13.0 in /Users/s.konkiel/opt/anaconda3/envs/PythonData/lib/python3.8/site-packages (from spacy) (2.22.0)\n",
      "Requirement already satisfied: spacy-legacy<3.1.0,>=3.0.4 in /Users/s.konkiel/opt/anaconda3/envs/PythonData/lib/python3.8/site-packages (from spacy) (3.0.5)\n",
      "Requirement already satisfied: cymem<2.1.0,>=2.0.2 in /Users/s.konkiel/opt/anaconda3/envs/PythonData/lib/python3.8/site-packages (from spacy) (2.0.5)\n",
      "Requirement already satisfied: murmurhash<1.1.0,>=0.28.0 in /Users/s.konkiel/opt/anaconda3/envs/PythonData/lib/python3.8/site-packages (from spacy) (1.0.5)\n",
      "Requirement already satisfied: typer<0.4.0,>=0.3.0 in /Users/s.konkiel/opt/anaconda3/envs/PythonData/lib/python3.8/site-packages (from spacy) (0.3.2)\n",
      "Requirement already satisfied: pathy>=0.3.5 in /Users/s.konkiel/opt/anaconda3/envs/PythonData/lib/python3.8/site-packages (from spacy) (0.5.2)\n",
      "Requirement already satisfied: thinc<8.1.0,>=8.0.3 in /Users/s.konkiel/opt/anaconda3/envs/PythonData/lib/python3.8/site-packages (from spacy) (8.0.3)\n",
      "Requirement already satisfied: jinja2 in /Users/s.konkiel/opt/anaconda3/envs/PythonData/lib/python3.8/site-packages (from spacy) (2.10.3)\n",
      "Requirement already satisfied: setuptools in /Users/s.konkiel/opt/anaconda3/envs/PythonData/lib/python3.8/site-packages (from spacy) (50.3.0.post20201006)\n",
      "Requirement already satisfied: packaging>=20.0 in /Users/s.konkiel/opt/anaconda3/envs/PythonData/lib/python3.8/site-packages (from spacy) (20.0)\n",
      "Requirement already satisfied: blis<0.8.0,>=0.4.0 in /Users/s.konkiel/opt/anaconda3/envs/PythonData/lib/python3.8/site-packages (from spacy) (0.7.4)\n",
      "Requirement already satisfied: catalogue<2.1.0,>=2.0.3 in /Users/s.konkiel/opt/anaconda3/envs/PythonData/lib/python3.8/site-packages (from spacy) (2.0.4)\n",
      "Requirement already satisfied: wasabi<1.1.0,>=0.8.1 in /Users/s.konkiel/opt/anaconda3/envs/PythonData/lib/python3.8/site-packages (from spacy) (0.8.2)\n",
      "Requirement already satisfied: idna<2.9,>=2.5 in /Users/s.konkiel/opt/anaconda3/envs/PythonData/lib/python3.8/site-packages (from requests<3.0.0,>=2.13.0->spacy) (2.8)\n",
      "Requirement already satisfied: urllib3!=1.25.0,!=1.25.1,<1.26,>=1.21.1 in /Users/s.konkiel/opt/anaconda3/envs/PythonData/lib/python3.8/site-packages (from requests<3.0.0,>=2.13.0->spacy) (1.25.7)\n",
      "Requirement already satisfied: certifi>=2017.4.17 in /Users/s.konkiel/opt/anaconda3/envs/PythonData/lib/python3.8/site-packages (from requests<3.0.0,>=2.13.0->spacy) (2020.12.5)\n",
      "Requirement already satisfied: chardet<3.1.0,>=3.0.2 in /Users/s.konkiel/opt/anaconda3/envs/PythonData/lib/python3.8/site-packages (from requests<3.0.0,>=2.13.0->spacy) (3.0.4)\n",
      "Requirement already satisfied: click<7.2.0,>=7.1.1 in /Users/s.konkiel/opt/anaconda3/envs/PythonData/lib/python3.8/site-packages (from typer<0.4.0,>=0.3.0->spacy) (7.1.2)\n",
      "Requirement already satisfied: smart-open<4.0.0,>=2.2.0 in /Users/s.konkiel/opt/anaconda3/envs/PythonData/lib/python3.8/site-packages (from pathy>=0.3.5->spacy) (3.0.0)\n",
      "Requirement already satisfied: MarkupSafe>=0.23 in /Users/s.konkiel/opt/anaconda3/envs/PythonData/lib/python3.8/site-packages (from jinja2->spacy) (1.1.1)\n",
      "Requirement already satisfied: pyparsing>=2.0.2 in /Users/s.konkiel/opt/anaconda3/envs/PythonData/lib/python3.8/site-packages (from packaging>=20.0->spacy) (2.4.7)\n",
      "Requirement already satisfied: en-core-web-sm==3.0.0 from https://github.com/explosion/spacy-models/releases/download/en_core_web_sm-3.0.0/en_core_web_sm-3.0.0-py3-none-any.whl#egg=en_core_web_sm==3.0.0 in /Users/s.konkiel/opt/anaconda3/envs/PythonData/lib/python3.8/site-packages (3.0.0)\n",
      "Requirement already satisfied: spacy<3.1.0,>=3.0.0 in /Users/s.konkiel/opt/anaconda3/envs/PythonData/lib/python3.8/site-packages (from en-core-web-sm==3.0.0) (3.0.6)\n",
      "Requirement already satisfied: tqdm<5.0.0,>=4.38.0 in /Users/s.konkiel/opt/anaconda3/envs/PythonData/lib/python3.8/site-packages (from spacy<3.1.0,>=3.0.0->en-core-web-sm==3.0.0) (4.54.1)\n",
      "Requirement already satisfied: catalogue<2.1.0,>=2.0.3 in /Users/s.konkiel/opt/anaconda3/envs/PythonData/lib/python3.8/site-packages (from spacy<3.1.0,>=3.0.0->en-core-web-sm==3.0.0) (2.0.4)\n",
      "Requirement already satisfied: jinja2 in /Users/s.konkiel/opt/anaconda3/envs/PythonData/lib/python3.8/site-packages (from spacy<3.1.0,>=3.0.0->en-core-web-sm==3.0.0) (2.10.3)\n",
      "Requirement already satisfied: srsly<3.0.0,>=2.4.1 in /Users/s.konkiel/opt/anaconda3/envs/PythonData/lib/python3.8/site-packages (from spacy<3.1.0,>=3.0.0->en-core-web-sm==3.0.0) (2.4.1)\n",
      "Requirement already satisfied: blis<0.8.0,>=0.4.0 in /Users/s.konkiel/opt/anaconda3/envs/PythonData/lib/python3.8/site-packages (from spacy<3.1.0,>=3.0.0->en-core-web-sm==3.0.0) (0.7.4)\n",
      "Requirement already satisfied: thinc<8.1.0,>=8.0.3 in /Users/s.konkiel/opt/anaconda3/envs/PythonData/lib/python3.8/site-packages (from spacy<3.1.0,>=3.0.0->en-core-web-sm==3.0.0) (8.0.3)\n",
      "Requirement already satisfied: requests<3.0.0,>=2.13.0 in /Users/s.konkiel/opt/anaconda3/envs/PythonData/lib/python3.8/site-packages (from spacy<3.1.0,>=3.0.0->en-core-web-sm==3.0.0) (2.22.0)\n",
      "Requirement already satisfied: cymem<2.1.0,>=2.0.2 in /Users/s.konkiel/opt/anaconda3/envs/PythonData/lib/python3.8/site-packages (from spacy<3.1.0,>=3.0.0->en-core-web-sm==3.0.0) (2.0.5)\n",
      "Requirement already satisfied: packaging>=20.0 in /Users/s.konkiel/opt/anaconda3/envs/PythonData/lib/python3.8/site-packages (from spacy<3.1.0,>=3.0.0->en-core-web-sm==3.0.0) (20.0)\n",
      "Requirement already satisfied: typer<0.4.0,>=0.3.0 in /Users/s.konkiel/opt/anaconda3/envs/PythonData/lib/python3.8/site-packages (from spacy<3.1.0,>=3.0.0->en-core-web-sm==3.0.0) (0.3.2)\n",
      "Requirement already satisfied: preshed<3.1.0,>=3.0.2 in /Users/s.konkiel/opt/anaconda3/envs/PythonData/lib/python3.8/site-packages (from spacy<3.1.0,>=3.0.0->en-core-web-sm==3.0.0) (3.0.5)\n",
      "Requirement already satisfied: numpy>=1.15.0 in /Users/s.konkiel/opt/anaconda3/envs/PythonData/lib/python3.8/site-packages (from spacy<3.1.0,>=3.0.0->en-core-web-sm==3.0.0) (1.19.2)\n",
      "Requirement already satisfied: spacy-legacy<3.1.0,>=3.0.4 in /Users/s.konkiel/opt/anaconda3/envs/PythonData/lib/python3.8/site-packages (from spacy<3.1.0,>=3.0.0->en-core-web-sm==3.0.0) (3.0.5)\n",
      "Requirement already satisfied: pydantic<1.8.0,>=1.7.1 in /Users/s.konkiel/opt/anaconda3/envs/PythonData/lib/python3.8/site-packages (from spacy<3.1.0,>=3.0.0->en-core-web-sm==3.0.0) (1.7.3)\n",
      "Requirement already satisfied: pathy>=0.3.5 in /Users/s.konkiel/opt/anaconda3/envs/PythonData/lib/python3.8/site-packages (from spacy<3.1.0,>=3.0.0->en-core-web-sm==3.0.0) (0.5.2)\n",
      "Requirement already satisfied: murmurhash<1.1.0,>=0.28.0 in /Users/s.konkiel/opt/anaconda3/envs/PythonData/lib/python3.8/site-packages (from spacy<3.1.0,>=3.0.0->en-core-web-sm==3.0.0) (1.0.5)\n",
      "Requirement already satisfied: setuptools in /Users/s.konkiel/opt/anaconda3/envs/PythonData/lib/python3.8/site-packages (from spacy<3.1.0,>=3.0.0->en-core-web-sm==3.0.0) (50.3.0.post20201006)\n",
      "Requirement already satisfied: wasabi<1.1.0,>=0.8.1 in /Users/s.konkiel/opt/anaconda3/envs/PythonData/lib/python3.8/site-packages (from spacy<3.1.0,>=3.0.0->en-core-web-sm==3.0.0) (0.8.2)\n",
      "Requirement already satisfied: MarkupSafe>=0.23 in /Users/s.konkiel/opt/anaconda3/envs/PythonData/lib/python3.8/site-packages (from jinja2->spacy<3.1.0,>=3.0.0->en-core-web-sm==3.0.0) (1.1.1)\n",
      "Requirement already satisfied: certifi>=2017.4.17 in /Users/s.konkiel/opt/anaconda3/envs/PythonData/lib/python3.8/site-packages (from requests<3.0.0,>=2.13.0->spacy<3.1.0,>=3.0.0->en-core-web-sm==3.0.0) (2020.12.5)\n",
      "Requirement already satisfied: idna<2.9,>=2.5 in /Users/s.konkiel/opt/anaconda3/envs/PythonData/lib/python3.8/site-packages (from requests<3.0.0,>=2.13.0->spacy<3.1.0,>=3.0.0->en-core-web-sm==3.0.0) (2.8)\n",
      "Requirement already satisfied: chardet<3.1.0,>=3.0.2 in /Users/s.konkiel/opt/anaconda3/envs/PythonData/lib/python3.8/site-packages (from requests<3.0.0,>=2.13.0->spacy<3.1.0,>=3.0.0->en-core-web-sm==3.0.0) (3.0.4)\n",
      "Requirement already satisfied: urllib3!=1.25.0,!=1.25.1,<1.26,>=1.21.1 in /Users/s.konkiel/opt/anaconda3/envs/PythonData/lib/python3.8/site-packages (from requests<3.0.0,>=2.13.0->spacy<3.1.0,>=3.0.0->en-core-web-sm==3.0.0) (1.25.7)\n",
      "Requirement already satisfied: pyparsing>=2.0.2 in /Users/s.konkiel/opt/anaconda3/envs/PythonData/lib/python3.8/site-packages (from packaging>=20.0->spacy<3.1.0,>=3.0.0->en-core-web-sm==3.0.0) (2.4.7)\n",
      "Requirement already satisfied: six in /Users/s.konkiel/opt/anaconda3/envs/PythonData/lib/python3.8/site-packages (from packaging>=20.0->spacy<3.1.0,>=3.0.0->en-core-web-sm==3.0.0) (1.15.0)\n"
     ]
    },
    {
     "name": "stdout",
     "output_type": "stream",
     "text": [
      "Requirement already satisfied: click<7.2.0,>=7.1.1 in /Users/s.konkiel/opt/anaconda3/envs/PythonData/lib/python3.8/site-packages (from typer<0.4.0,>=0.3.0->spacy<3.1.0,>=3.0.0->en-core-web-sm==3.0.0) (7.1.2)\n",
      "Requirement already satisfied: smart-open<4.0.0,>=2.2.0 in /Users/s.konkiel/opt/anaconda3/envs/PythonData/lib/python3.8/site-packages (from pathy>=0.3.5->spacy<3.1.0,>=3.0.0->en-core-web-sm==3.0.0) (3.0.0)\n",
      "\u001b[38;5;2m✔ Download and installation successful\u001b[0m\n",
      "You can now load the package via spacy.load('en_core_web_sm')\n"
     ]
    },
    {
     "name": "stderr",
     "output_type": "stream",
     "text": [
      "[nltk_data] Downloading package wordnet to\n",
      "[nltk_data]     /Users/s.konkiel/nltk_data...\n",
      "[nltk_data]   Package wordnet is already up-to-date!\n"
     ]
    }
   ],
   "source": [
    "import sys\n",
    "!{sys.executable} -m pip install pickle5 pandas nltk tqdm regex spacy\n",
    "!{sys.executable} -m spacy download en_core_web_sm\n",
    "\n",
    "import pickle5 as pickle\n",
    "import pandas as pd\n",
    "import nltk\n",
    "nltk.download('wordnet')\n",
    "from nltk.stem import WordNetLemmatizer \n",
    "from nltk.tokenize import word_tokenize\n",
    "from nltk import pos_tag\n",
    "\n",
    "import regex as re\n",
    "\n",
    "import spacy \n",
    "\n",
    "from matplotlib import *\n",
    "from matplotlib import pyplot as plt\n",
    "import seaborn as sns\n",
    "\n",
    "from tqdm.autonotebook import tqdm\n",
    "tqdm.pandas()"
   ]
  },
  {
   "cell_type": "code",
   "execution_count": 22,
   "metadata": {},
   "outputs": [
    {
     "data": {
      "text/html": [
       "<div>\n",
       "<style scoped>\n",
       "    .dataframe tbody tr th:only-of-type {\n",
       "        vertical-align: middle;\n",
       "    }\n",
       "\n",
       "    .dataframe tbody tr th {\n",
       "        vertical-align: top;\n",
       "    }\n",
       "\n",
       "    .dataframe thead th {\n",
       "        text-align: right;\n",
       "    }\n",
       "</style>\n",
       "<table border=\"1\" class=\"dataframe\">\n",
       "  <thead>\n",
       "    <tr style=\"text-align: right;\">\n",
       "      <th></th>\n",
       "      <th>section_title</th>\n",
       "      <th>text</th>\n",
       "      <th>article_id</th>\n",
       "    </tr>\n",
       "  </thead>\n",
       "  <tbody>\n",
       "    <tr>\n",
       "      <th>0</th>\n",
       "      <td></td>\n",
       "      <td>On 26 January 2010, at an ordinary airport hot...</td>\n",
       "      <td>0213936a-340f-47cf-a5e6-2ca353343a77</td>\n",
       "    </tr>\n",
       "    <tr>\n",
       "      <th>1</th>\n",
       "      <td>PART 2: CAN ALZHEIMER'S PREVENTION INITIATIVE ...</td>\n",
       "      <td>Reiman was not alone in thinking about such tr...</td>\n",
       "      <td>0213936a-340f-47cf-a5e6-2ca353343a77</td>\n",
       "    </tr>\n",
       "    <tr>\n",
       "      <th>2</th>\n",
       "      <td>PART 3: TRIALS IN COLOMBIA AND THE U.S. FOR TH...</td>\n",
       "      <td>During two recent all-day discussions with aca...</td>\n",
       "      <td>0213936a-340f-47cf-a5e6-2ca353343a77</td>\n",
       "    </tr>\n",
       "    <tr>\n",
       "      <th>3</th>\n",
       "      <td>PART 4: FOR SHARED PREVENTION TRIALS, DEVIL IS...</td>\n",
       "      <td>In Phoenix, a roomful of senior industry and a...</td>\n",
       "      <td>0213936a-340f-47cf-a5e6-2ca353343a77</td>\n",
       "    </tr>\n",
       "    <tr>\n",
       "      <th>4</th>\n",
       "      <td>Drug Selection: Can We Have Privacy, Please!</td>\n",
       "      <td>If anyone was hoping that representatives from...</td>\n",
       "      <td>0213936a-340f-47cf-a5e6-2ca353343a77</td>\n",
       "    </tr>\n",
       "  </tbody>\n",
       "</table>\n",
       "</div>"
      ],
      "text/plain": [
       "                                       section_title  \\\n",
       "0                                                      \n",
       "1  PART 2: CAN ALZHEIMER'S PREVENTION INITIATIVE ...   \n",
       "2  PART 3: TRIALS IN COLOMBIA AND THE U.S. FOR TH...   \n",
       "3  PART 4: FOR SHARED PREVENTION TRIALS, DEVIL IS...   \n",
       "4       Drug Selection: Can We Have Privacy, Please!   \n",
       "\n",
       "                                                text  \\\n",
       "0  On 26 January 2010, at an ordinary airport hot...   \n",
       "1  Reiman was not alone in thinking about such tr...   \n",
       "2  During two recent all-day discussions with aca...   \n",
       "3  In Phoenix, a roomful of senior industry and a...   \n",
       "4  If anyone was hoping that representatives from...   \n",
       "\n",
       "                             article_id  \n",
       "0  0213936a-340f-47cf-a5e6-2ca353343a77  \n",
       "1  0213936a-340f-47cf-a5e6-2ca353343a77  \n",
       "2  0213936a-340f-47cf-a5e6-2ca353343a77  \n",
       "3  0213936a-340f-47cf-a5e6-2ca353343a77  \n",
       "4  0213936a-340f-47cf-a5e6-2ca353343a77  "
      ]
     },
     "execution_count": 22,
     "metadata": {},
     "output_type": "execute_result"
    }
   ],
   "source": [
    "# Load saved data\n",
    "with open(\"../getting_started/articles_df.pkl\", \"rb\") as fh:\n",
    "    articles = pickle.load(fh)\n",
    "    \n",
    "articles.head()"
   ]
  },
  {
   "cell_type": "markdown",
   "metadata": {},
   "source": [
    "## Section names\n",
    "There may be relationships between data citations and where in a document the citation occurs. Let's do some basic cleanup and EDA on section names, with this in mind."
   ]
  },
  {
   "cell_type": "code",
   "execution_count": 23,
   "metadata": {},
   "outputs": [
    {
     "data": {
      "text/plain": [
       "count    14316.000000\n",
       "mean        18.071668\n",
       "std         23.617739\n",
       "min          1.000000\n",
       "25%         10.000000\n",
       "50%         14.000000\n",
       "75%         20.000000\n",
       "max       1120.000000\n",
       "Name: section_title, dtype: float64"
      ]
     },
     "execution_count": 23,
     "metadata": {},
     "output_type": "execute_result"
    }
   ],
   "source": [
    "# How many sections per article?\n",
    "section_counts = articles.groupby('article_id')['section_title'].count()\n",
    "section_counts.describe()"
   ]
  },
  {
   "cell_type": "code",
   "execution_count": 24,
   "metadata": {},
   "outputs": [
    {
     "data": {
      "text/plain": [
       "Text(0, 0.5, 'articles')"
      ]
     },
     "execution_count": 24,
     "metadata": {},
     "output_type": "execute_result"
    },
    {
     "data": {
      "image/png": "[encoded data removed]",
      "text/plain": [
       "<Figure size 432x288 with 1 Axes>"
      ]
     },
     "metadata": {
      "needs_background": "light"
     },
     "output_type": "display_data"
    }
   ],
   "source": [
    "# How many sections per article?\n",
    "plt = section_counts.plot(kind='hist', bins=30, logy=True)\n",
    "plt.set_xlabel('sections per article')\n",
    "plt.set_ylabel('articles')"
   ]
  },
  {
   "cell_type": "code",
   "execution_count": 25,
   "metadata": {},
   "outputs": [
    {
     "data": {
      "text/plain": [
       "<AxesSubplot:>"
      ]
     },
     "execution_count": 25,
     "metadata": {},
     "output_type": "execute_result"
    },
    {
     "data": {
      "image/png": "[encoded data removed]",
      "text/plain": [
       "<Figure size 432x288 with 1 Axes>"
      ]
     },
     "metadata": {
      "needs_background": "light"
     },
     "output_type": "display_data"
    }
   ],
   "source": [
    "# quick look at section titles\n",
    "articles['section_title'].str.lower().value_counts()[:15].plot(kind='bar')"
   ]
  },
  {
   "cell_type": "code",
   "execution_count": 28,
   "metadata": {},
   "outputs": [],
   "source": [
    "# tokenization\n",
    "def tokenize(text):\n",
    "    '''prepare the text for cleaning by tokenizing strings into words'''\n",
    "    try:\n",
    "        sentence_list = nltk.sent_tokenize(text)\n",
    "        tokenizer = nltk.RegexpTokenizer(r\"\\w+\")\n",
    "        word_list = [tokenizer.tokenize(s) for s in sentence_list]\n",
    "    except:\n",
    "        word_list = text\n",
    "    \n",
    "    return word_list"
   ]
  },
  {
   "cell_type": "code",
   "execution_count": 31,
   "metadata": {},
   "outputs": [
    {
     "data": {
      "application/vnd.jupyter.widget-view+json": {
       "model_id": "f322f5ae4ec24830b66442adc61b6323",
       "version_major": 2,
       "version_minor": 0
      },
      "text/plain": [
       "HBox(children=(HTML(value=''), FloatProgress(value=0.0, max=258714.0), HTML(value='')))"
      ]
     },
     "metadata": {},
     "output_type": "display_data"
    },
    {
     "name": "stdout",
     "output_type": "stream",
     "text": [
      "\n"
     ]
    },
    {
     "data": {
      "text/plain": [
       "['part',\n",
       " '3',\n",
       " 'trials',\n",
       " 'in',\n",
       " 'colombia',\n",
       " 'and',\n",
       " 'the',\n",
       " 'us',\n",
       " 'for',\n",
       " 'those',\n",
       " 'at',\n",
       " 'highest',\n",
       " 'risk']"
      ]
     },
     "execution_count": 31,
     "metadata": {},
     "output_type": "execute_result"
    }
   ],
   "source": [
    "articles['section_title_cleaned'] = articles['section_title'].apply(lambda x: str(x)) # make sure nulls are treated as str\n",
    "articles['section_title_lower'] = articles['section_title_cleaned'].str.lower() # lowercase standardization\n",
    "articles['section_title_cleaned'] = articles['section_title_lower'].apply(lambda x: re.sub(r'[^\\w\\d\\s\\']+', '', x)) # remove all non-word characters\n",
    "articles['section_title_tokenized'] = articles['section_title_cleaned'].progress_apply(word_tokenize) # tokenize\n",
    "\n",
    "articles.loc[2,'section_title_tokenized'] # check output"
   ]
  },
  {
   "cell_type": "code",
   "execution_count": 32,
   "metadata": {},
   "outputs": [
    {
     "name": "stderr",
     "output_type": "stream",
     "text": [
      "[nltk_data] Downloading package stopwords to\n",
      "[nltk_data]     /Users/s.konkiel/nltk_data...\n",
      "[nltk_data]   Package stopwords is already up-to-date!\n"
     ]
    },
    {
     "data": {
      "application/vnd.jupyter.widget-view+json": {
       "model_id": "e35fb0d214834dfeb2f8141fdb005782",
       "version_major": 2,
       "version_minor": 0
      },
      "text/plain": [
       "HBox(children=(HTML(value=''), FloatProgress(value=0.0, max=258714.0), HTML(value='')))"
      ]
     },
     "metadata": {},
     "output_type": "display_data"
    },
    {
     "name": "stdout",
     "output_type": "stream",
     "text": [
      "\n"
     ]
    }
   ],
   "source": [
    "# remove stopwords\n",
    "nltk.download('stopwords')\n",
    "from nltk.corpus import stopwords\n",
    "stop_words = set(stopwords.words('english'))\n",
    "\n",
    "articles['section_title_tokenized_stop_rem'] = articles['section_title_tokenized'].progress_apply(lambda x: [word for word in x if word not in stop_words])"
   ]
  },
  {
   "cell_type": "code",
   "execution_count": 33,
   "metadata": {},
   "outputs": [
    {
     "name": "stdout",
     "output_type": "stream",
     "text": [
      "Requirement already satisfied: en-core-web-sm==3.0.0 from https://github.com/explosion/spacy-models/releases/download/en_core_web_sm-3.0.0/en_core_web_sm-3.0.0-py3-none-any.whl#egg=en_core_web_sm==3.0.0 in /Users/s.konkiel/opt/anaconda3/envs/PythonData/lib/python3.8/site-packages (3.0.0)\n",
      "Requirement already satisfied: spacy<3.1.0,>=3.0.0 in /Users/s.konkiel/opt/anaconda3/envs/PythonData/lib/python3.8/site-packages (from en-core-web-sm==3.0.0) (3.0.6)\n",
      "Requirement already satisfied: typer<0.4.0,>=0.3.0 in /Users/s.konkiel/opt/anaconda3/envs/PythonData/lib/python3.8/site-packages (from spacy<3.1.0,>=3.0.0->en-core-web-sm==3.0.0) (0.3.2)\n",
      "Requirement already satisfied: numpy>=1.15.0 in /Users/s.konkiel/opt/anaconda3/envs/PythonData/lib/python3.8/site-packages (from spacy<3.1.0,>=3.0.0->en-core-web-sm==3.0.0) (1.19.2)\n",
      "Requirement already satisfied: wasabi<1.1.0,>=0.8.1 in /Users/s.konkiel/opt/anaconda3/envs/PythonData/lib/python3.8/site-packages (from spacy<3.1.0,>=3.0.0->en-core-web-sm==3.0.0) (0.8.2)\n",
      "Requirement already satisfied: jinja2 in /Users/s.konkiel/opt/anaconda3/envs/PythonData/lib/python3.8/site-packages (from spacy<3.1.0,>=3.0.0->en-core-web-sm==3.0.0) (2.10.3)\n",
      "Requirement already satisfied: requests<3.0.0,>=2.13.0 in /Users/s.konkiel/opt/anaconda3/envs/PythonData/lib/python3.8/site-packages (from spacy<3.1.0,>=3.0.0->en-core-web-sm==3.0.0) (2.22.0)\n",
      "Requirement already satisfied: setuptools in /Users/s.konkiel/opt/anaconda3/envs/PythonData/lib/python3.8/site-packages (from spacy<3.1.0,>=3.0.0->en-core-web-sm==3.0.0) (50.3.0.post20201006)\n",
      "Requirement already satisfied: packaging>=20.0 in /Users/s.konkiel/opt/anaconda3/envs/PythonData/lib/python3.8/site-packages (from spacy<3.1.0,>=3.0.0->en-core-web-sm==3.0.0) (20.0)\n",
      "Requirement already satisfied: pydantic<1.8.0,>=1.7.1 in /Users/s.konkiel/opt/anaconda3/envs/PythonData/lib/python3.8/site-packages (from spacy<3.1.0,>=3.0.0->en-core-web-sm==3.0.0) (1.7.3)\n",
      "Requirement already satisfied: murmurhash<1.1.0,>=0.28.0 in /Users/s.konkiel/opt/anaconda3/envs/PythonData/lib/python3.8/site-packages (from spacy<3.1.0,>=3.0.0->en-core-web-sm==3.0.0) (1.0.5)\n",
      "Requirement already satisfied: srsly<3.0.0,>=2.4.1 in /Users/s.konkiel/opt/anaconda3/envs/PythonData/lib/python3.8/site-packages (from spacy<3.1.0,>=3.0.0->en-core-web-sm==3.0.0) (2.4.1)\n",
      "Requirement already satisfied: spacy-legacy<3.1.0,>=3.0.4 in /Users/s.konkiel/opt/anaconda3/envs/PythonData/lib/python3.8/site-packages (from spacy<3.1.0,>=3.0.0->en-core-web-sm==3.0.0) (3.0.5)\n",
      "Requirement already satisfied: blis<0.8.0,>=0.4.0 in /Users/s.konkiel/opt/anaconda3/envs/PythonData/lib/python3.8/site-packages (from spacy<3.1.0,>=3.0.0->en-core-web-sm==3.0.0) (0.7.4)\n",
      "Requirement already satisfied: tqdm<5.0.0,>=4.38.0 in /Users/s.konkiel/opt/anaconda3/envs/PythonData/lib/python3.8/site-packages (from spacy<3.1.0,>=3.0.0->en-core-web-sm==3.0.0) (4.54.1)\n",
      "Requirement already satisfied: preshed<3.1.0,>=3.0.2 in /Users/s.konkiel/opt/anaconda3/envs/PythonData/lib/python3.8/site-packages (from spacy<3.1.0,>=3.0.0->en-core-web-sm==3.0.0) (3.0.5)\n",
      "Requirement already satisfied: cymem<2.1.0,>=2.0.2 in /Users/s.konkiel/opt/anaconda3/envs/PythonData/lib/python3.8/site-packages (from spacy<3.1.0,>=3.0.0->en-core-web-sm==3.0.0) (2.0.5)\n",
      "Requirement already satisfied: catalogue<2.1.0,>=2.0.3 in /Users/s.konkiel/opt/anaconda3/envs/PythonData/lib/python3.8/site-packages (from spacy<3.1.0,>=3.0.0->en-core-web-sm==3.0.0) (2.0.4)\n",
      "Requirement already satisfied: thinc<8.1.0,>=8.0.3 in /Users/s.konkiel/opt/anaconda3/envs/PythonData/lib/python3.8/site-packages (from spacy<3.1.0,>=3.0.0->en-core-web-sm==3.0.0) (8.0.3)\n",
      "Requirement already satisfied: pathy>=0.3.5 in /Users/s.konkiel/opt/anaconda3/envs/PythonData/lib/python3.8/site-packages (from spacy<3.1.0,>=3.0.0->en-core-web-sm==3.0.0) (0.5.2)\n",
      "Requirement already satisfied: click<7.2.0,>=7.1.1 in /Users/s.konkiel/opt/anaconda3/envs/PythonData/lib/python3.8/site-packages (from typer<0.4.0,>=0.3.0->spacy<3.1.0,>=3.0.0->en-core-web-sm==3.0.0) (7.1.2)\n",
      "Requirement already satisfied: MarkupSafe>=0.23 in /Users/s.konkiel/opt/anaconda3/envs/PythonData/lib/python3.8/site-packages (from jinja2->spacy<3.1.0,>=3.0.0->en-core-web-sm==3.0.0) (1.1.1)\n",
      "Requirement already satisfied: chardet<3.1.0,>=3.0.2 in /Users/s.konkiel/opt/anaconda3/envs/PythonData/lib/python3.8/site-packages (from requests<3.0.0,>=2.13.0->spacy<3.1.0,>=3.0.0->en-core-web-sm==3.0.0) (3.0.4)\n",
      "Requirement already satisfied: urllib3!=1.25.0,!=1.25.1,<1.26,>=1.21.1 in /Users/s.konkiel/opt/anaconda3/envs/PythonData/lib/python3.8/site-packages (from requests<3.0.0,>=2.13.0->spacy<3.1.0,>=3.0.0->en-core-web-sm==3.0.0) (1.25.7)\n",
      "Requirement already satisfied: idna<2.9,>=2.5 in /Users/s.konkiel/opt/anaconda3/envs/PythonData/lib/python3.8/site-packages (from requests<3.0.0,>=2.13.0->spacy<3.1.0,>=3.0.0->en-core-web-sm==3.0.0) (2.8)\n",
      "Requirement already satisfied: certifi>=2017.4.17 in /Users/s.konkiel/opt/anaconda3/envs/PythonData/lib/python3.8/site-packages (from requests<3.0.0,>=2.13.0->spacy<3.1.0,>=3.0.0->en-core-web-sm==3.0.0) (2020.12.5)\n",
      "Requirement already satisfied: pyparsing>=2.0.2 in /Users/s.konkiel/opt/anaconda3/envs/PythonData/lib/python3.8/site-packages (from packaging>=20.0->spacy<3.1.0,>=3.0.0->en-core-web-sm==3.0.0) (2.4.7)\n",
      "Requirement already satisfied: six in /Users/s.konkiel/opt/anaconda3/envs/PythonData/lib/python3.8/site-packages (from packaging>=20.0->spacy<3.1.0,>=3.0.0->en-core-web-sm==3.0.0) (1.15.0)\n",
      "Requirement already satisfied: smart-open<4.0.0,>=2.2.0 in /Users/s.konkiel/opt/anaconda3/envs/PythonData/lib/python3.8/site-packages (from pathy>=0.3.5->spacy<3.1.0,>=3.0.0->en-core-web-sm==3.0.0) (3.0.0)\n",
      "\u001b[38;5;2m✔ Download and installation successful\u001b[0m\n",
      "You can now load the package via spacy.load('en_core_web_sm')\n"
     ]
    },
    {
     "data": {
      "application/vnd.jupyter.widget-view+json": {
       "model_id": "196d7657deed43f89cc762abc695ee55",
       "version_major": 2,
       "version_minor": 0
      },
      "text/plain": [
       "HBox(children=(HTML(value=''), FloatProgress(value=0.0, max=258714.0), HTML(value='')))"
      ]
     },
     "metadata": {},
     "output_type": "display_data"
    },
    {
     "name": "stdout",
     "output_type": "stream",
     "text": [
      "\n"
     ]
    },
    {
     "data": {
      "text/html": [
       "<div>\n",
       "<style scoped>\n",
       "    .dataframe tbody tr th:only-of-type {\n",
       "        vertical-align: middle;\n",
       "    }\n",
       "\n",
       "    .dataframe tbody tr th {\n",
       "        vertical-align: top;\n",
       "    }\n",
       "\n",
       "    .dataframe thead th {\n",
       "        text-align: right;\n",
       "    }\n",
       "</style>\n",
       "<table border=\"1\" class=\"dataframe\">\n",
       "  <thead>\n",
       "    <tr style=\"text-align: right;\">\n",
       "      <th></th>\n",
       "      <th>section_title</th>\n",
       "      <th>text</th>\n",
       "      <th>article_id</th>\n",
       "      <th>section_title_cleaned</th>\n",
       "      <th>section_title_lower</th>\n",
       "      <th>section_title_tokenized</th>\n",
       "      <th>section_title_tokenized_stop_rem</th>\n",
       "      <th>spacy</th>\n",
       "    </tr>\n",
       "  </thead>\n",
       "  <tbody>\n",
       "    <tr>\n",
       "      <th>0</th>\n",
       "      <td></td>\n",
       "      <td>On 26 January 2010, at an ordinary airport hot...</td>\n",
       "      <td>0213936a-340f-47cf-a5e6-2ca353343a77</td>\n",
       "      <td></td>\n",
       "      <td></td>\n",
       "      <td>[]</td>\n",
       "      <td>[]</td>\n",
       "      <td></td>\n",
       "    </tr>\n",
       "    <tr>\n",
       "      <th>1</th>\n",
       "      <td>PART 2: CAN ALZHEIMER'S PREVENTION INITIATIVE ...</td>\n",
       "      <td>Reiman was not alone in thinking about such tr...</td>\n",
       "      <td>0213936a-340f-47cf-a5e6-2ca353343a77</td>\n",
       "      <td>part 2 can alzheimer's prevention initiative b...</td>\n",
       "      <td>part 2: can alzheimer's prevention initiative ...</td>\n",
       "      <td>[part, 2, can, alzheimer, 's, prevention, init...</td>\n",
       "      <td>[part, 2, alzheimer, 's, prevention, initiativ...</td>\n",
       "      <td>part 2 alzheimer 's prevention initiative brea...</td>\n",
       "    </tr>\n",
       "    <tr>\n",
       "      <th>2</th>\n",
       "      <td>PART 3: TRIALS IN COLOMBIA AND THE U.S. FOR TH...</td>\n",
       "      <td>During two recent all-day discussions with aca...</td>\n",
       "      <td>0213936a-340f-47cf-a5e6-2ca353343a77</td>\n",
       "      <td>part 3 trials in colombia and the us for those...</td>\n",
       "      <td>part 3: trials in colombia and the u.s. for th...</td>\n",
       "      <td>[part, 3, trials, in, colombia, and, the, us, ...</td>\n",
       "      <td>[part, 3, trials, colombia, us, highest, risk]</td>\n",
       "      <td>part 3 trial colombia we high risk</td>\n",
       "    </tr>\n",
       "    <tr>\n",
       "      <th>3</th>\n",
       "      <td>PART 4: FOR SHARED PREVENTION TRIALS, DEVIL IS...</td>\n",
       "      <td>In Phoenix, a roomful of senior industry and a...</td>\n",
       "      <td>0213936a-340f-47cf-a5e6-2ca353343a77</td>\n",
       "      <td>part 4 for shared prevention trials devil is i...</td>\n",
       "      <td>part 4: for shared prevention trials, devil is...</td>\n",
       "      <td>[part, 4, for, shared, prevention, trials, dev...</td>\n",
       "      <td>[part, 4, shared, prevention, trials, devil, d...</td>\n",
       "      <td>part 4 share prevention trial devil detail</td>\n",
       "    </tr>\n",
       "    <tr>\n",
       "      <th>4</th>\n",
       "      <td>Drug Selection: Can We Have Privacy, Please!</td>\n",
       "      <td>If anyone was hoping that representatives from...</td>\n",
       "      <td>0213936a-340f-47cf-a5e6-2ca353343a77</td>\n",
       "      <td>drug selection can we have privacy please</td>\n",
       "      <td>drug selection: can we have privacy, please!</td>\n",
       "      <td>[drug, selection, can, we, have, privacy, please]</td>\n",
       "      <td>[drug, selection, privacy, please]</td>\n",
       "      <td>drug selection privacy please</td>\n",
       "    </tr>\n",
       "  </tbody>\n",
       "</table>\n",
       "</div>"
      ],
      "text/plain": [
       "                                       section_title  \\\n",
       "0                                                      \n",
       "1  PART 2: CAN ALZHEIMER'S PREVENTION INITIATIVE ...   \n",
       "2  PART 3: TRIALS IN COLOMBIA AND THE U.S. FOR TH...   \n",
       "3  PART 4: FOR SHARED PREVENTION TRIALS, DEVIL IS...   \n",
       "4       Drug Selection: Can We Have Privacy, Please!   \n",
       "\n",
       "                                                text  \\\n",
       "0  On 26 January 2010, at an ordinary airport hot...   \n",
       "1  Reiman was not alone in thinking about such tr...   \n",
       "2  During two recent all-day discussions with aca...   \n",
       "3  In Phoenix, a roomful of senior industry and a...   \n",
       "4  If anyone was hoping that representatives from...   \n",
       "\n",
       "                             article_id  \\\n",
       "0  0213936a-340f-47cf-a5e6-2ca353343a77   \n",
       "1  0213936a-340f-47cf-a5e6-2ca353343a77   \n",
       "2  0213936a-340f-47cf-a5e6-2ca353343a77   \n",
       "3  0213936a-340f-47cf-a5e6-2ca353343a77   \n",
       "4  0213936a-340f-47cf-a5e6-2ca353343a77   \n",
       "\n",
       "                               section_title_cleaned  \\\n",
       "0                                                      \n",
       "1  part 2 can alzheimer's prevention initiative b...   \n",
       "2  part 3 trials in colombia and the us for those...   \n",
       "3  part 4 for shared prevention trials devil is i...   \n",
       "4          drug selection can we have privacy please   \n",
       "\n",
       "                                 section_title_lower  \\\n",
       "0                                                      \n",
       "1  part 2: can alzheimer's prevention initiative ...   \n",
       "2  part 3: trials in colombia and the u.s. for th...   \n",
       "3  part 4: for shared prevention trials, devil is...   \n",
       "4       drug selection: can we have privacy, please!   \n",
       "\n",
       "                             section_title_tokenized  \\\n",
       "0                                                 []   \n",
       "1  [part, 2, can, alzheimer, 's, prevention, init...   \n",
       "2  [part, 3, trials, in, colombia, and, the, us, ...   \n",
       "3  [part, 4, for, shared, prevention, trials, dev...   \n",
       "4  [drug, selection, can, we, have, privacy, please]   \n",
       "\n",
       "                    section_title_tokenized_stop_rem  \\\n",
       "0                                                 []   \n",
       "1  [part, 2, alzheimer, 's, prevention, initiativ...   \n",
       "2     [part, 3, trials, colombia, us, highest, risk]   \n",
       "3  [part, 4, shared, prevention, trials, devil, d...   \n",
       "4                 [drug, selection, privacy, please]   \n",
       "\n",
       "                                               spacy  \n",
       "0                                                     \n",
       "1  part 2 alzheimer 's prevention initiative brea...  \n",
       "2                 part 3 trial colombia we high risk  \n",
       "3         part 4 share prevention trial devil detail  \n",
       "4                      drug selection privacy please  "
      ]
     },
     "execution_count": 33,
     "metadata": {},
     "output_type": "execute_result"
    }
   ],
   "source": [
    "# lemmatize with POS tags applied\n",
    "# use spaCy to do this in a more streamlined fashion than NLTK # https://www.machinelearningplus.com/nlp/lemmatization-examples-python/#wordnetlemmatizerwithappropriatepostag\n",
    "\n",
    "nlp = spacy.load(\"en_core_web_sm\", disable=['parser', 'ner'])\n",
    "\n",
    "def lemmatize(l):\n",
    "    '''use context-aware lemmatization from spacy on cleaned and stopword-removed tokens'''\n",
    "    string = ' '.join(l) \n",
    "    doc = nlp(string)\n",
    "    tokens = [token.lemma_ for token in doc]\n",
    "    string = ' '.join(tokens)\n",
    "    return string\n",
    "\n",
    "articles['spacy'] = articles['section_title_tokenized_stop_rem'].progress_apply(lemmatize)\n",
    "\n",
    "articles.head()"
   ]
  },
  {
   "cell_type": "code",
   "execution_count": 34,
   "metadata": {},
   "outputs": [],
   "source": [
    "articles.to_pickle('./interim/articles_lemmatized.pkl')"
   ]
  },
  {
   "cell_type": "code",
   "execution_count": 52,
   "metadata": {},
   "outputs": [],
   "source": [
    "# Find and visualize n-grams for common terms in section titles\n",
    "from nltk.util import ngrams\n",
    "from sklearn.feature_extraction.text import CountVectorizer"
   ]
  },
  {
   "cell_type": "code",
   "execution_count": 65,
   "metadata": {},
   "outputs": [
    {
     "data": {
      "image/png": "[encoded data removed]",
      "text/plain": [
       "<Figure size 720x720 with 1 Axes>"
      ]
     },
     "metadata": {
      "needs_background": "light"
     },
     "output_type": "display_data"
    }
   ],
   "source": [
    "# From data_cleanup notebook, updated to accomodate both bigrams and trigrams\n",
    "def plot_top_ngrams_barchart(text, n=2):\n",
    "    stop=set(stopwords.words('english'))\n",
    "\n",
    "    new=text.str.split()\n",
    "    new=new.values.tolist()\n",
    "    corpus=[word for i in new for word in i]\n",
    "\n",
    "    def _get_top_ngram(corpus, n=None):\n",
    "        vec = CountVectorizer(ngram_range=(n, n)).fit(corpus)\n",
    "        bag_of_words = vec.transform(corpus)\n",
    "        sum_words = bag_of_words.sum(axis=0) \n",
    "        words_freq = [(word, sum_words[0, idx]) \n",
    "                      for word, idx in vec.vocabulary_.items()]\n",
    "        words_freq =sorted(words_freq, key = lambda x: x[1], reverse=True)\n",
    "        return words_freq[:20]\n",
    "\n",
    "    top_n_bigrams=_get_top_ngram(text,n)[:50]\n",
    "    x,y=map(list,zip(*top_n_bigrams))\n",
    "    plt.figure(figsize=(10,10))\n",
    "    plt.xlabel(f\"Frequency\")\n",
    "    plt.ylabel(f\"Ngram\")\n",
    "    plt.title(f\"Top 50 Ngrams (N={n}) mentioned in Section Titles\")\n",
    "    sns.barplot(x=y,y=x)\n",
    "\n",
    "plot_top_ngrams_barchart(articles['spacy'],2)"
   ]
  },
  {
   "cell_type": "code",
   "execution_count": 62,
   "metadata": {},
   "outputs": [
    {
     "data": {
      "text/html": [
       "<div>\n",
       "<style scoped>\n",
       "    .dataframe tbody tr th:only-of-type {\n",
       "        vertical-align: middle;\n",
       "    }\n",
       "\n",
       "    .dataframe tbody tr th {\n",
       "        vertical-align: top;\n",
       "    }\n",
       "\n",
       "    .dataframe thead th {\n",
       "        text-align: right;\n",
       "    }\n",
       "</style>\n",
       "<table border=\"1\" class=\"dataframe\">\n",
       "  <thead>\n",
       "    <tr style=\"text-align: right;\">\n",
       "      <th></th>\n",
       "      <th>section_title</th>\n",
       "      <th>text</th>\n",
       "      <th>article_id</th>\n",
       "      <th>section_title_cleaned</th>\n",
       "      <th>section_title_lower</th>\n",
       "      <th>section_title_tokenized</th>\n",
       "      <th>section_title_tokenized_stop_rem</th>\n",
       "      <th>spacy</th>\n",
       "    </tr>\n",
       "  </thead>\n",
       "  <tbody>\n",
       "    <tr>\n",
       "      <th>8083</th>\n",
       "      <td>Ventricular arrhythmias</td>\n",
       "      <td>As with HF, the incidence of heart rhythm diso...</td>\n",
       "      <td>c397c293-bdea-4380-9698-8001f2c598e9</td>\n",
       "      <td>ventricular arrhythmias</td>\n",
       "      <td>ventricular arrhythmias</td>\n",
       "      <td>[ventricular, arrhythmias]</td>\n",
       "      <td>[ventricular, arrhythmias]</td>\n",
       "      <td>ventricular arrhythmia</td>\n",
       "    </tr>\n",
       "    <tr>\n",
       "      <th>8085</th>\n",
       "      <td>Sustained ventricular arrhythmias</td>\n",
       "      <td>The main aetiology of sustained VT in aging pe...</td>\n",
       "      <td>c397c293-bdea-4380-9698-8001f2c598e9</td>\n",
       "      <td>sustained ventricular arrhythmias</td>\n",
       "      <td>sustained ventricular arrhythmias</td>\n",
       "      <td>[sustained, ventricular, arrhythmias]</td>\n",
       "      <td>[sustained, ventricular, arrhythmias]</td>\n",
       "      <td>sustained ventricular arrhythmia</td>\n",
       "    </tr>\n",
       "    <tr>\n",
       "      <th>192702</th>\n",
       "      <td>Rutdiagram som visar styrkan i samvariationen ...</td>\n",
       "      <td></td>\n",
       "      <td>7d4cda25-c17e-40e5-a37d-55f480d6e815</td>\n",
       "      <td>rutdiagram som visar styrkan i samvariationen ...</td>\n",
       "      <td>rutdiagram som visar styrkan i samvariationen ...</td>\n",
       "      <td>[rutdiagram, som, visar, styrkan, i, samvariat...</td>\n",
       "      <td>[rutdiagram, som, visar, styrkan, samvariation...</td>\n",
       "      <td>rutdiagram som visar styrkan samvariationen me...</td>\n",
       "    </tr>\n",
       "    <tr>\n",
       "      <th>207036</th>\n",
       "      <td>Molecular architectonics.</td>\n",
       "      <td>Histochemical and immunohistochemical methods ...</td>\n",
       "      <td>f35ee21e-3780-490e-801c-4c283e1b181b</td>\n",
       "      <td>molecular architectonics</td>\n",
       "      <td>molecular architectonics.</td>\n",
       "      <td>[molecular, architectonics]</td>\n",
       "      <td>[molecular, architectonics]</td>\n",
       "      <td>molecular architectonic</td>\n",
       "    </tr>\n",
       "    <tr>\n",
       "      <th>219679</th>\n",
       "      <td>AR AR AR AR AR AR AR AR AR AR AR AR AR AR AR A...</td>\n",
       "      <td></td>\n",
       "      <td>c25c3c5d-d335-4596-8bda-47d789ac0564</td>\n",
       "      <td>ar ar ar ar ar ar ar ar ar ar ar ar ar ar ar a...</td>\n",
       "      <td>ar ar ar ar ar ar ar ar ar ar ar ar ar ar ar a...</td>\n",
       "      <td>[ar, ar, ar, ar, ar, ar, ar, ar, ar, ar, ar, a...</td>\n",
       "      <td>[ar, ar, ar, ar, ar, ar, ar, ar, ar, ar, ar, a...</td>\n",
       "      <td>ar ar ar ar ar ar ar ar ar ar ar ar ar ar ar a...</td>\n",
       "    </tr>\n",
       "    <tr>\n",
       "      <th>239510</th>\n",
       "      <td>Coursetaking in Various Curricular Areas</td>\n",
       "      <td>First-generation students were less likely tha...</td>\n",
       "      <td>775a4e16-b3c5-44d4-9d1a-05235875f79f</td>\n",
       "      <td>coursetaking in various curricular areas</td>\n",
       "      <td>coursetaking in various curricular areas</td>\n",
       "      <td>[coursetaking, in, various, curricular, areas]</td>\n",
       "      <td>[coursetaking, various, curricular, areas]</td>\n",
       "      <td>coursetake various curricular area</td>\n",
       "    </tr>\n",
       "    <tr>\n",
       "      <th>239515</th>\n",
       "      <td>Coursetaking Across Curricular Areas</td>\n",
       "      <td>Students whose parents were college educated a...</td>\n",
       "      <td>775a4e16-b3c5-44d4-9d1a-05235875f79f</td>\n",
       "      <td>coursetaking across curricular areas</td>\n",
       "      <td>coursetaking across curricular areas</td>\n",
       "      <td>[coursetaking, across, curricular, areas]</td>\n",
       "      <td>[coursetaking, across, curricular, areas]</td>\n",
       "      <td>coursetake across curricular area</td>\n",
       "    </tr>\n",
       "  </tbody>\n",
       "</table>\n",
       "</div>"
      ],
      "text/plain": [
       "                                            section_title  \\\n",
       "8083                              Ventricular arrhythmias   \n",
       "8085                    Sustained ventricular arrhythmias   \n",
       "192702  Rutdiagram som visar styrkan i samvariationen ...   \n",
       "207036                          Molecular architectonics.   \n",
       "219679  AR AR AR AR AR AR AR AR AR AR AR AR AR AR AR A...   \n",
       "239510           Coursetaking in Various Curricular Areas   \n",
       "239515               Coursetaking Across Curricular Areas   \n",
       "\n",
       "                                                     text  \\\n",
       "8083    As with HF, the incidence of heart rhythm diso...   \n",
       "8085    The main aetiology of sustained VT in aging pe...   \n",
       "192702                                                      \n",
       "207036  Histochemical and immunohistochemical methods ...   \n",
       "219679                                                      \n",
       "239510  First-generation students were less likely tha...   \n",
       "239515  Students whose parents were college educated a...   \n",
       "\n",
       "                                  article_id  \\\n",
       "8083    c397c293-bdea-4380-9698-8001f2c598e9   \n",
       "8085    c397c293-bdea-4380-9698-8001f2c598e9   \n",
       "192702  7d4cda25-c17e-40e5-a37d-55f480d6e815   \n",
       "207036  f35ee21e-3780-490e-801c-4c283e1b181b   \n",
       "219679  c25c3c5d-d335-4596-8bda-47d789ac0564   \n",
       "239510  775a4e16-b3c5-44d4-9d1a-05235875f79f   \n",
       "239515  775a4e16-b3c5-44d4-9d1a-05235875f79f   \n",
       "\n",
       "                                    section_title_cleaned  \\\n",
       "8083                              ventricular arrhythmias   \n",
       "8085                    sustained ventricular arrhythmias   \n",
       "192702  rutdiagram som visar styrkan i samvariationen ...   \n",
       "207036                           molecular architectonics   \n",
       "219679  ar ar ar ar ar ar ar ar ar ar ar ar ar ar ar a...   \n",
       "239510           coursetaking in various curricular areas   \n",
       "239515               coursetaking across curricular areas   \n",
       "\n",
       "                                      section_title_lower  \\\n",
       "8083                              ventricular arrhythmias   \n",
       "8085                    sustained ventricular arrhythmias   \n",
       "192702  rutdiagram som visar styrkan i samvariationen ...   \n",
       "207036                          molecular architectonics.   \n",
       "219679  ar ar ar ar ar ar ar ar ar ar ar ar ar ar ar a...   \n",
       "239510           coursetaking in various curricular areas   \n",
       "239515               coursetaking across curricular areas   \n",
       "\n",
       "                                  section_title_tokenized  \\\n",
       "8083                           [ventricular, arrhythmias]   \n",
       "8085                [sustained, ventricular, arrhythmias]   \n",
       "192702  [rutdiagram, som, visar, styrkan, i, samvariat...   \n",
       "207036                        [molecular, architectonics]   \n",
       "219679  [ar, ar, ar, ar, ar, ar, ar, ar, ar, ar, ar, a...   \n",
       "239510     [coursetaking, in, various, curricular, areas]   \n",
       "239515          [coursetaking, across, curricular, areas]   \n",
       "\n",
       "                         section_title_tokenized_stop_rem  \\\n",
       "8083                           [ventricular, arrhythmias]   \n",
       "8085                [sustained, ventricular, arrhythmias]   \n",
       "192702  [rutdiagram, som, visar, styrkan, samvariation...   \n",
       "207036                        [molecular, architectonics]   \n",
       "219679  [ar, ar, ar, ar, ar, ar, ar, ar, ar, ar, ar, a...   \n",
       "239510         [coursetaking, various, curricular, areas]   \n",
       "239515          [coursetaking, across, curricular, areas]   \n",
       "\n",
       "                                                    spacy  \n",
       "8083                               ventricular arrhythmia  \n",
       "8085                     sustained ventricular arrhythmia  \n",
       "192702  rutdiagram som visar styrkan samvariationen me...  \n",
       "207036                            molecular architectonic  \n",
       "219679  ar ar ar ar ar ar ar ar ar ar ar ar ar ar ar a...  \n",
       "239510                 coursetake various curricular area  \n",
       "239515                  coursetake across curricular area  "
      ]
     },
     "execution_count": 62,
     "metadata": {},
     "output_type": "execute_result"
    }
   ],
   "source": [
    "# Tables including state names seem to be skewing the bigrams\n",
    "articles[articles['spacy'].str.contains('ar ar')]"
   ]
  },
  {
   "cell_type": "code",
   "execution_count": 67,
   "metadata": {},
   "outputs": [
    {
     "data": {
      "image/png": "[encoded data removed]",
      "text/plain": [
       "<Figure size 720x720 with 1 Axes>"
      ]
     },
     "metadata": {
      "needs_background": "light"
     },
     "output_type": "display_data"
    }
   ],
   "source": [
    "# Plot trigrams\n",
    "plot_top_ngrams_barchart(articles['spacy'],3)"
   ]
  },
  {
   "cell_type": "code",
   "execution_count": null,
   "metadata": {},
   "outputs": [],
   "source": [
    "# Drop section titles that have state abbreviations from tables\n",
    "# How did other teams handle this aspect of dataset cleaning?"
   ]
  },
  {
   "cell_type": "code",
   "execution_count": null,
   "metadata": {},
   "outputs": [],
   "source": [
    "# Standardize section names - flag if terms appear in top trigrams or bigrams, if so - which?\n",
    "'''\n",
    "If a section title includes a top 30 bigram or trigram, flag it in new column\n",
    "Otherwise, pass / add nothing to the new series\n",
    "'''"
   ]
  },
  {
   "cell_type": "code",
   "execution_count": null,
   "metadata": {},
   "outputs": [],
   "source": [
    "# Implement POS tags for section titles"
   ]
  },
  {
   "cell_type": "code",
   "execution_count": null,
   "metadata": {},
   "outputs": [],
   "source": [
    "# Find sections where dataset citations are most likely to occur using train dataset\n"
   ]
  }
 ],
 "metadata": {
  "kernelspec": {
   "display_name": "Python 3",
   "language": "python",
   "name": "python3"
  },
  "language_info": {
   "codemirror_mode": {
    "name": "ipython",
    "version": 3
   },
   "file_extension": ".py",
   "mimetype": "text/x-python",
   "name": "python",
   "nbconvert_exporter": "python",
   "pygments_lexer": "ipython3",
   "version": "3.8.5"
  }
 },
 "nbformat": 4,
 "nbformat_minor": 5
}
