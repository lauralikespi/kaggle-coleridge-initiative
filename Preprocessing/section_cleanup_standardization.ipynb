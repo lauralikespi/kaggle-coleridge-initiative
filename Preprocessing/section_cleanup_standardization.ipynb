{
 "cells": [
  {
   "cell_type": "code",
   "execution_count": 1,
   "id": "44841e9f",
   "metadata": {},
   "outputs": [
    {
     "name": "stdout",
     "output_type": "stream",
     "text": [
      "Requirement already satisfied: pickle5 in /Users/s.konkiel/opt/anaconda3/envs/kaggle_ci/lib/python3.9/site-packages (0.0.11)\n",
      "Requirement already satisfied: pandas in /Users/s.konkiel/opt/anaconda3/envs/kaggle_ci/lib/python3.9/site-packages (1.2.4)\n",
      "Requirement already satisfied: nltk in /Users/s.konkiel/opt/anaconda3/envs/kaggle_ci/lib/python3.9/site-packages (3.6.2)\n",
      "Requirement already satisfied: tqdm in /Users/s.konkiel/opt/anaconda3/envs/kaggle_ci/lib/python3.9/site-packages (4.60.0)\n",
      "Requirement already satisfied: regex in /Users/s.konkiel/opt/anaconda3/envs/kaggle_ci/lib/python3.9/site-packages (from nltk) (2021.4.4)\n",
      "Requirement already satisfied: joblib in /Users/s.konkiel/opt/anaconda3/envs/kaggle_ci/lib/python3.9/site-packages (from nltk) (1.0.1)\n",
      "Requirement already satisfied: click in /Users/s.konkiel/opt/anaconda3/envs/kaggle_ci/lib/python3.9/site-packages (from nltk) (7.1.2)\n",
      "Requirement already satisfied: numpy>=1.16.5 in /Users/s.konkiel/opt/anaconda3/envs/kaggle_ci/lib/python3.9/site-packages (from pandas) (1.20.2)\n",
      "Requirement already satisfied: pytz>=2017.3 in /Users/s.konkiel/opt/anaconda3/envs/kaggle_ci/lib/python3.9/site-packages (from pandas) (2021.1)\n",
      "Requirement already satisfied: python-dateutil>=2.7.3 in /Users/s.konkiel/opt/anaconda3/envs/kaggle_ci/lib/python3.9/site-packages (from pandas) (2.8.1)\n",
      "Requirement already satisfied: six>=1.5 in /Users/s.konkiel/opt/anaconda3/envs/kaggle_ci/lib/python3.9/site-packages (from python-dateutil>=2.7.3->pandas) (1.15.0)\n"
     ]
    },
    {
     "name": "stderr",
     "output_type": "stream",
     "text": [
      "[nltk_data] Downloading package wordnet to\n",
      "[nltk_data]     /Users/s.konkiel/nltk_data...\n",
      "[nltk_data]   Package wordnet is already up-to-date!\n",
      "<ipython-input-1-9c1759f761f0>:11: TqdmExperimentalWarning: Using `tqdm.autonotebook.tqdm` in notebook mode. Use `tqdm.tqdm` instead to force console mode (e.g. in jupyter console)\n",
      "  from tqdm.autonotebook import tqdm\n"
     ]
    }
   ],
   "source": [
    "!pip3 install pickle5 pandas nltk tqdm\n",
    "\n",
    "import pickle5 as pickle\n",
    "import pandas as pd\n",
    "import nltk\n",
    "nltk.download('wordnet')\n",
    "from nltk.stem import WordNetLemmatizer \n",
    "from nltk.tokenize import word_tokenize\n",
    "from nltk import pos_tag\n",
    "\n",
    "from tqdm.autonotebook import tqdm\n",
    "tqdm.pandas()"
   ]
  },
  {
   "cell_type": "code",
   "execution_count": 2,
   "id": "2a773899",
   "metadata": {},
   "outputs": [
    {
     "data": {
      "text/html": [
       "<div>\n",
       "<style scoped>\n",
       "    .dataframe tbody tr th:only-of-type {\n",
       "        vertical-align: middle;\n",
       "    }\n",
       "\n",
       "    .dataframe tbody tr th {\n",
       "        vertical-align: top;\n",
       "    }\n",
       "\n",
       "    .dataframe thead th {\n",
       "        text-align: right;\n",
       "    }\n",
       "</style>\n",
       "<table border=\"1\" class=\"dataframe\">\n",
       "  <thead>\n",
       "    <tr style=\"text-align: right;\">\n",
       "      <th></th>\n",
       "      <th>section_title</th>\n",
       "      <th>text</th>\n",
       "      <th>article_id</th>\n",
       "    </tr>\n",
       "  </thead>\n",
       "  <tbody>\n",
       "    <tr>\n",
       "      <th>0</th>\n",
       "      <td></td>\n",
       "      <td>On 26 January 2010, at an ordinary airport hot...</td>\n",
       "      <td>0213936a-340f-47cf-a5e6-2ca353343a77</td>\n",
       "    </tr>\n",
       "    <tr>\n",
       "      <th>1</th>\n",
       "      <td>PART 2: CAN ALZHEIMER'S PREVENTION INITIATIVE ...</td>\n",
       "      <td>Reiman was not alone in thinking about such tr...</td>\n",
       "      <td>0213936a-340f-47cf-a5e6-2ca353343a77</td>\n",
       "    </tr>\n",
       "    <tr>\n",
       "      <th>2</th>\n",
       "      <td>PART 3: TRIALS IN COLOMBIA AND THE U.S. FOR TH...</td>\n",
       "      <td>During two recent all-day discussions with aca...</td>\n",
       "      <td>0213936a-340f-47cf-a5e6-2ca353343a77</td>\n",
       "    </tr>\n",
       "    <tr>\n",
       "      <th>3</th>\n",
       "      <td>PART 4: FOR SHARED PREVENTION TRIALS, DEVIL IS...</td>\n",
       "      <td>In Phoenix, a roomful of senior industry and a...</td>\n",
       "      <td>0213936a-340f-47cf-a5e6-2ca353343a77</td>\n",
       "    </tr>\n",
       "    <tr>\n",
       "      <th>4</th>\n",
       "      <td>Drug Selection: Can We Have Privacy, Please!</td>\n",
       "      <td>If anyone was hoping that representatives from...</td>\n",
       "      <td>0213936a-340f-47cf-a5e6-2ca353343a77</td>\n",
       "    </tr>\n",
       "  </tbody>\n",
       "</table>\n",
       "</div>"
      ],
      "text/plain": [
       "                                       section_title  \\\n",
       "0                                                      \n",
       "1  PART 2: CAN ALZHEIMER'S PREVENTION INITIATIVE ...   \n",
       "2  PART 3: TRIALS IN COLOMBIA AND THE U.S. FOR TH...   \n",
       "3  PART 4: FOR SHARED PREVENTION TRIALS, DEVIL IS...   \n",
       "4       Drug Selection: Can We Have Privacy, Please!   \n",
       "\n",
       "                                                text  \\\n",
       "0  On 26 January 2010, at an ordinary airport hot...   \n",
       "1  Reiman was not alone in thinking about such tr...   \n",
       "2  During two recent all-day discussions with aca...   \n",
       "3  In Phoenix, a roomful of senior industry and a...   \n",
       "4  If anyone was hoping that representatives from...   \n",
       "\n",
       "                             article_id  \n",
       "0  0213936a-340f-47cf-a5e6-2ca353343a77  \n",
       "1  0213936a-340f-47cf-a5e6-2ca353343a77  \n",
       "2  0213936a-340f-47cf-a5e6-2ca353343a77  \n",
       "3  0213936a-340f-47cf-a5e6-2ca353343a77  \n",
       "4  0213936a-340f-47cf-a5e6-2ca353343a77  "
      ]
     },
     "execution_count": 2,
     "metadata": {},
     "output_type": "execute_result"
    }
   ],
   "source": [
    "# Load saved data\n",
    "with open(\"../getting_started/articles_df.pkl\", \"rb\") as fh:\n",
    "    articles = pickle.load(fh)\n",
    "    \n",
    "articles.head()"
   ]
  },
  {
   "cell_type": "markdown",
   "id": "6c8f6e10",
   "metadata": {},
   "source": [
    "## Section names\n",
    "There may be relationships between data citations and where in a document the citation occurs. Let's do some basic cleanup and EDA on section names, with this in mind."
   ]
  },
  {
   "cell_type": "code",
   "execution_count": 34,
   "id": "91ca320e",
   "metadata": {},
   "outputs": [
    {
     "data": {
      "text/plain": [
       "count    14316.000000\n",
       "mean        18.071668\n",
       "std         23.617739\n",
       "min          1.000000\n",
       "25%         10.000000\n",
       "50%         14.000000\n",
       "75%         20.000000\n",
       "max       1120.000000\n",
       "Name: section_title, dtype: float64"
      ]
     },
     "execution_count": 34,
     "metadata": {},
     "output_type": "execute_result"
    }
   ],
   "source": [
    "# How many sections per article?\n",
    "section_counts = articles.groupby('article_id')['section_title'].count()\n",
    "section_counts.describe()"
   ]
  },
  {
   "cell_type": "code",
   "execution_count": 35,
   "id": "e4e67ae8",
   "metadata": {},
   "outputs": [
    {
     "data": {
      "text/plain": [
       "Text(0, 0.5, 'articles')"
      ]
     },
     "execution_count": 35,
     "metadata": {},
     "output_type": "execute_result"
    },
    {
     "data": {
      "image/png": "[encoded data removed]",
      "text/plain": [
       "<Figure size 432x288 with 1 Axes>"
      ]
     },
     "metadata": {
      "needs_background": "light"
     },
     "output_type": "display_data"
    }
   ],
   "source": [
    "# How many sections per article?\n",
    "plt = section_counts.plot(kind='hist', bins=30, logy=True)\n",
    "plt.set_xlabel('sections per article')\n",
    "plt.set_ylabel('articles')"
   ]
  },
  {
   "cell_type": "code",
   "execution_count": 7,
   "id": "6db1cf86",
   "metadata": {},
   "outputs": [
    {
     "data": {
      "text/plain": [
       "<AxesSubplot:>"
      ]
     },
     "execution_count": 7,
     "metadata": {},
     "output_type": "execute_result"
    },
    {
     "data": {
      "image/png": "[encoded data removed]",
      "text/plain": [
       "<Figure size 432x288 with 1 Axes>"
      ]
     },
     "metadata": {
      "needs_background": "light"
     },
     "output_type": "display_data"
    }
   ],
   "source": [
    "# quick look at section titles\n",
    "articles['section_title'].str.lower().value_counts()[:15].plot(kind='bar')"
   ]
  },
  {
   "cell_type": "code",
   "execution_count": 8,
   "id": "bf524131",
   "metadata": {},
   "outputs": [],
   "source": [
    "# tokenization\n",
    "def tokenize(text):\n",
    "    '''prepare the text for cleaning by tokenizing strings into words'''\n",
    "    try:\n",
    "        sentence_list = nltk.sent_tokenize(text)\n",
    "        tokenizer = nltk.RegexpTokenizer(r\"\\w+\")\n",
    "        word_list = [tokenizer.tokenize(s) for s in sentence_list]\n",
    "    except:\n",
    "        word_list = text\n",
    "    \n",
    "    return word_list"
   ]
  },
  {
   "cell_type": "code",
   "execution_count": 9,
   "id": "20a3b086",
   "metadata": {},
   "outputs": [
    {
     "data": {
      "application/vnd.jupyter.widget-view+json": {
       "model_id": "6f50a267425d40b9bc3510c79da330d1",
       "version_major": 2,
       "version_minor": 0
      },
      "text/plain": [
       "  0%|          | 0/258714 [00:00<?, ?it/s]"
      ]
     },
     "metadata": {},
     "output_type": "display_data"
    },
    {
     "data": {
      "text/plain": [
       "['part',\n",
       " '3',\n",
       " 'trials',\n",
       " 'in',\n",
       " 'colombia',\n",
       " 'and',\n",
       " 'the',\n",
       " 'us',\n",
       " 'for',\n",
       " 'those',\n",
       " 'at',\n",
       " 'highest',\n",
       " 'risk']"
      ]
     },
     "execution_count": 9,
     "metadata": {},
     "output_type": "execute_result"
    }
   ],
   "source": [
    "articles['section_title_cleaned'] = articles['section_title'].apply(lambda x: str(x)) \n",
    "\n",
    "import regex as re\n",
    "articles['section_title_lower'] = articles['section_title_cleaned'].str.lower()\n",
    "articles['section_title_cleaned'] = articles['section_title_lower'].apply(lambda x: re.sub(r'[^\\w\\d\\s\\']+', '', x))\n",
    "\n",
    "articles['section_title_tokenized'] = articles['section_title_cleaned'].progress_apply(word_tokenize)\n",
    "\n",
    "articles.loc[2,'section_title_tokenized']"
   ]
  },
  {
   "cell_type": "code",
   "execution_count": 10,
   "id": "11387f2d",
   "metadata": {},
   "outputs": [
    {
     "name": "stderr",
     "output_type": "stream",
     "text": [
      "[nltk_data] Downloading package stopwords to\n",
      "[nltk_data]     /Users/s.konkiel/nltk_data...\n",
      "[nltk_data]   Package stopwords is already up-to-date!\n"
     ]
    }
   ],
   "source": [
    "# remove stopwords\n",
    "nltk.download('stopwords')\n",
    "from nltk.corpus import stopwords\n",
    "stop_words = set(stopwords.words('english'))\n",
    "\n",
    "articles['section_title_tokenized_stop_rem'] = articles['section_title_tokenized'].apply(lambda x: [word for word in x if word not in stop_words])"
   ]
  },
  {
   "cell_type": "code",
   "execution_count": 16,
   "id": "6c192eb2",
   "metadata": {},
   "outputs": [
    {
     "name": "stdout",
     "output_type": "stream",
     "text": [
      "Requirement already satisfied: spacy in /Users/s.konkiel/opt/anaconda3/envs/kaggle_ci/lib/python3.9/site-packages (3.0.6)\n",
      "Requirement already satisfied: spacy-legacy<3.1.0,>=3.0.4 in /Users/s.konkiel/opt/anaconda3/envs/kaggle_ci/lib/python3.9/site-packages (from spacy) (3.0.5)\n",
      "Requirement already satisfied: numpy>=1.15.0 in /Users/s.konkiel/opt/anaconda3/envs/kaggle_ci/lib/python3.9/site-packages (from spacy) (1.20.2)\n",
      "Requirement already satisfied: murmurhash<1.1.0,>=0.28.0 in /Users/s.konkiel/opt/anaconda3/envs/kaggle_ci/lib/python3.9/site-packages (from spacy) (1.0.5)\n",
      "Requirement already satisfied: requests<3.0.0,>=2.13.0 in /Users/s.konkiel/opt/anaconda3/envs/kaggle_ci/lib/python3.9/site-packages (from spacy) (2.25.1)\n",
      "Requirement already satisfied: jinja2 in /Users/s.konkiel/opt/anaconda3/envs/kaggle_ci/lib/python3.9/site-packages (from spacy) (2.11.3)\n",
      "Requirement already satisfied: catalogue<2.1.0,>=2.0.3 in /Users/s.konkiel/opt/anaconda3/envs/kaggle_ci/lib/python3.9/site-packages (from spacy) (2.0.4)\n",
      "Requirement already satisfied: pathy>=0.3.5 in /Users/s.konkiel/opt/anaconda3/envs/kaggle_ci/lib/python3.9/site-packages (from spacy) (0.5.2)\n",
      "Requirement already satisfied: setuptools in /Users/s.konkiel/opt/anaconda3/envs/kaggle_ci/lib/python3.9/site-packages (from spacy) (52.0.0.post20210125)\n",
      "Requirement already satisfied: typer<0.4.0,>=0.3.0 in /Users/s.konkiel/opt/anaconda3/envs/kaggle_ci/lib/python3.9/site-packages (from spacy) (0.3.2)\n",
      "Requirement already satisfied: packaging>=20.0 in /Users/s.konkiel/opt/anaconda3/envs/kaggle_ci/lib/python3.9/site-packages (from spacy) (20.9)\n",
      "Requirement already satisfied: pydantic<1.8.0,>=1.7.1 in /Users/s.konkiel/opt/anaconda3/envs/kaggle_ci/lib/python3.9/site-packages (from spacy) (1.7.3)\n",
      "Requirement already satisfied: wasabi<1.1.0,>=0.8.1 in /Users/s.konkiel/opt/anaconda3/envs/kaggle_ci/lib/python3.9/site-packages (from spacy) (0.8.2)\n",
      "Requirement already satisfied: cymem<2.1.0,>=2.0.2 in /Users/s.konkiel/opt/anaconda3/envs/kaggle_ci/lib/python3.9/site-packages (from spacy) (2.0.5)\n",
      "Requirement already satisfied: blis<0.8.0,>=0.4.0 in /Users/s.konkiel/opt/anaconda3/envs/kaggle_ci/lib/python3.9/site-packages (from spacy) (0.7.4)\n",
      "Requirement already satisfied: srsly<3.0.0,>=2.4.1 in /Users/s.konkiel/opt/anaconda3/envs/kaggle_ci/lib/python3.9/site-packages (from spacy) (2.4.1)\n",
      "Requirement already satisfied: thinc<8.1.0,>=8.0.3 in /Users/s.konkiel/opt/anaconda3/envs/kaggle_ci/lib/python3.9/site-packages (from spacy) (8.0.3)\n",
      "Requirement already satisfied: preshed<3.1.0,>=3.0.2 in /Users/s.konkiel/opt/anaconda3/envs/kaggle_ci/lib/python3.9/site-packages (from spacy) (3.0.5)\n",
      "Requirement already satisfied: tqdm<5.0.0,>=4.38.0 in /Users/s.konkiel/opt/anaconda3/envs/kaggle_ci/lib/python3.9/site-packages (from spacy) (4.60.0)\n",
      "Requirement already satisfied: pyparsing>=2.0.2 in /Users/s.konkiel/opt/anaconda3/envs/kaggle_ci/lib/python3.9/site-packages (from packaging>=20.0->spacy) (2.4.7)\n",
      "Requirement already satisfied: smart-open<4.0.0,>=2.2.0 in /Users/s.konkiel/opt/anaconda3/envs/kaggle_ci/lib/python3.9/site-packages (from pathy>=0.3.5->spacy) (3.0.0)\n",
      "Requirement already satisfied: idna<3,>=2.5 in /Users/s.konkiel/opt/anaconda3/envs/kaggle_ci/lib/python3.9/site-packages (from requests<3.0.0,>=2.13.0->spacy) (2.10)\n",
      "Requirement already satisfied: certifi>=2017.4.17 in /Users/s.konkiel/opt/anaconda3/envs/kaggle_ci/lib/python3.9/site-packages (from requests<3.0.0,>=2.13.0->spacy) (2020.12.5)\n",
      "Requirement already satisfied: urllib3<1.27,>=1.21.1 in /Users/s.konkiel/opt/anaconda3/envs/kaggle_ci/lib/python3.9/site-packages (from requests<3.0.0,>=2.13.0->spacy) (1.26.4)\n",
      "Requirement already satisfied: chardet<5,>=3.0.2 in /Users/s.konkiel/opt/anaconda3/envs/kaggle_ci/lib/python3.9/site-packages (from requests<3.0.0,>=2.13.0->spacy) (4.0.0)\n",
      "Requirement already satisfied: click<7.2.0,>=7.1.1 in /Users/s.konkiel/opt/anaconda3/envs/kaggle_ci/lib/python3.9/site-packages (from typer<0.4.0,>=0.3.0->spacy) (7.1.2)\n",
      "Requirement already satisfied: MarkupSafe>=0.23 in /Users/s.konkiel/opt/anaconda3/envs/kaggle_ci/lib/python3.9/site-packages (from jinja2->spacy) (1.1.1)\n",
      "\n",
      "\u001b[38;5;1m✘ No compatible package found for 'en_core_web_sm==3.0.0' (spaCy\n",
      "v3.0.6)\u001b[0m\n",
      "\n"
     ]
    },
    {
     "data": {
      "application/vnd.jupyter.widget-view+json": {
       "model_id": "553a36a2e0df4c6d93d867fb33d02951",
       "version_major": 2,
       "version_minor": 0
      },
      "text/plain": [
       "  0%|          | 0/258714 [00:00<?, ?it/s]"
      ]
     },
     "metadata": {},
     "output_type": "display_data"
    },
    {
     "data": {
      "text/html": [
       "<div>\n",
       "<style scoped>\n",
       "    .dataframe tbody tr th:only-of-type {\n",
       "        vertical-align: middle;\n",
       "    }\n",
       "\n",
       "    .dataframe tbody tr th {\n",
       "        vertical-align: top;\n",
       "    }\n",
       "\n",
       "    .dataframe thead th {\n",
       "        text-align: right;\n",
       "    }\n",
       "</style>\n",
       "<table border=\"1\" class=\"dataframe\">\n",
       "  <thead>\n",
       "    <tr style=\"text-align: right;\">\n",
       "      <th></th>\n",
       "      <th>section_title</th>\n",
       "      <th>text</th>\n",
       "      <th>article_id</th>\n",
       "      <th>section_title_cleaned</th>\n",
       "      <th>section_title_lower</th>\n",
       "      <th>section_title_tokenized</th>\n",
       "      <th>section_title_tokenized_stop_rem</th>\n",
       "      <th>section_title_tagged</th>\n",
       "      <th>spacy</th>\n",
       "    </tr>\n",
       "  </thead>\n",
       "  <tbody>\n",
       "    <tr>\n",
       "      <th>0</th>\n",
       "      <td></td>\n",
       "      <td>On 26 January 2010, at an ordinary airport hot...</td>\n",
       "      <td>0213936a-340f-47cf-a5e6-2ca353343a77</td>\n",
       "      <td></td>\n",
       "      <td></td>\n",
       "      <td>[]</td>\n",
       "      <td>[]</td>\n",
       "      <td>[]</td>\n",
       "      <td>[]</td>\n",
       "    </tr>\n",
       "    <tr>\n",
       "      <th>1</th>\n",
       "      <td>PART 2: CAN ALZHEIMER'S PREVENTION INITIATIVE ...</td>\n",
       "      <td>Reiman was not alone in thinking about such tr...</td>\n",
       "      <td>0213936a-340f-47cf-a5e6-2ca353343a77</td>\n",
       "      <td>part 2 can alzheimer's prevention initiative b...</td>\n",
       "      <td>part 2: can alzheimer's prevention initiative ...</td>\n",
       "      <td>[part, 2, can, alzheimer, 's, prevention, init...</td>\n",
       "      <td>[part, 2, alzheimer, 's, prevention, initiativ...</td>\n",
       "      <td>[(part, NN), (2, CD), (alzheimer, NN), ('s, PO...</td>\n",
       "      <td>[part, 2, alzheimer, 's, prevention, initiativ...</td>\n",
       "    </tr>\n",
       "    <tr>\n",
       "      <th>2</th>\n",
       "      <td>PART 3: TRIALS IN COLOMBIA AND THE U.S. FOR TH...</td>\n",
       "      <td>During two recent all-day discussions with aca...</td>\n",
       "      <td>0213936a-340f-47cf-a5e6-2ca353343a77</td>\n",
       "      <td>part 3 trials in colombia and the us for those...</td>\n",
       "      <td>part 3: trials in colombia and the u.s. for th...</td>\n",
       "      <td>[part, 3, trials, in, colombia, and, the, us, ...</td>\n",
       "      <td>[part, 3, trials, colombia, us, highest, risk]</td>\n",
       "      <td>[(part, NN), (3, CD), (trials, NNS), (colombia...</td>\n",
       "      <td>[part, 3, trial, colombia, we, high, risk]</td>\n",
       "    </tr>\n",
       "    <tr>\n",
       "      <th>3</th>\n",
       "      <td>PART 4: FOR SHARED PREVENTION TRIALS, DEVIL IS...</td>\n",
       "      <td>In Phoenix, a roomful of senior industry and a...</td>\n",
       "      <td>0213936a-340f-47cf-a5e6-2ca353343a77</td>\n",
       "      <td>part 4 for shared prevention trials devil is i...</td>\n",
       "      <td>part 4: for shared prevention trials, devil is...</td>\n",
       "      <td>[part, 4, for, shared, prevention, trials, dev...</td>\n",
       "      <td>[part, 4, shared, prevention, trials, devil, d...</td>\n",
       "      <td>[(part, NN), (4, CD), (shared, VBN), (preventi...</td>\n",
       "      <td>[part, 4, share, prevention, trial, devil, det...</td>\n",
       "    </tr>\n",
       "    <tr>\n",
       "      <th>4</th>\n",
       "      <td>Drug Selection: Can We Have Privacy, Please!</td>\n",
       "      <td>If anyone was hoping that representatives from...</td>\n",
       "      <td>0213936a-340f-47cf-a5e6-2ca353343a77</td>\n",
       "      <td>drug selection can we have privacy please</td>\n",
       "      <td>drug selection: can we have privacy, please!</td>\n",
       "      <td>[drug, selection, can, we, have, privacy, please]</td>\n",
       "      <td>[drug, selection, privacy, please]</td>\n",
       "      <td>[(drug, NN), (selection, NN), (privacy, NN), (...</td>\n",
       "      <td>[drug, selection, privacy, please]</td>\n",
       "    </tr>\n",
       "  </tbody>\n",
       "</table>\n",
       "</div>"
      ],
      "text/plain": [
       "                                       section_title  \\\n",
       "0                                                      \n",
       "1  PART 2: CAN ALZHEIMER'S PREVENTION INITIATIVE ...   \n",
       "2  PART 3: TRIALS IN COLOMBIA AND THE U.S. FOR TH...   \n",
       "3  PART 4: FOR SHARED PREVENTION TRIALS, DEVIL IS...   \n",
       "4       Drug Selection: Can We Have Privacy, Please!   \n",
       "\n",
       "                                                text  \\\n",
       "0  On 26 January 2010, at an ordinary airport hot...   \n",
       "1  Reiman was not alone in thinking about such tr...   \n",
       "2  During two recent all-day discussions with aca...   \n",
       "3  In Phoenix, a roomful of senior industry and a...   \n",
       "4  If anyone was hoping that representatives from...   \n",
       "\n",
       "                             article_id  \\\n",
       "0  0213936a-340f-47cf-a5e6-2ca353343a77   \n",
       "1  0213936a-340f-47cf-a5e6-2ca353343a77   \n",
       "2  0213936a-340f-47cf-a5e6-2ca353343a77   \n",
       "3  0213936a-340f-47cf-a5e6-2ca353343a77   \n",
       "4  0213936a-340f-47cf-a5e6-2ca353343a77   \n",
       "\n",
       "                               section_title_cleaned  \\\n",
       "0                                                      \n",
       "1  part 2 can alzheimer's prevention initiative b...   \n",
       "2  part 3 trials in colombia and the us for those...   \n",
       "3  part 4 for shared prevention trials devil is i...   \n",
       "4          drug selection can we have privacy please   \n",
       "\n",
       "                                 section_title_lower  \\\n",
       "0                                                      \n",
       "1  part 2: can alzheimer's prevention initiative ...   \n",
       "2  part 3: trials in colombia and the u.s. for th...   \n",
       "3  part 4: for shared prevention trials, devil is...   \n",
       "4       drug selection: can we have privacy, please!   \n",
       "\n",
       "                             section_title_tokenized  \\\n",
       "0                                                 []   \n",
       "1  [part, 2, can, alzheimer, 's, prevention, init...   \n",
       "2  [part, 3, trials, in, colombia, and, the, us, ...   \n",
       "3  [part, 4, for, shared, prevention, trials, dev...   \n",
       "4  [drug, selection, can, we, have, privacy, please]   \n",
       "\n",
       "                    section_title_tokenized_stop_rem  \\\n",
       "0                                                 []   \n",
       "1  [part, 2, alzheimer, 's, prevention, initiativ...   \n",
       "2     [part, 3, trials, colombia, us, highest, risk]   \n",
       "3  [part, 4, shared, prevention, trials, devil, d...   \n",
       "4                 [drug, selection, privacy, please]   \n",
       "\n",
       "                                section_title_tagged  \\\n",
       "0                                                 []   \n",
       "1  [(part, NN), (2, CD), (alzheimer, NN), ('s, PO...   \n",
       "2  [(part, NN), (3, CD), (trials, NNS), (colombia...   \n",
       "3  [(part, NN), (4, CD), (shared, VBN), (preventi...   \n",
       "4  [(drug, NN), (selection, NN), (privacy, NN), (...   \n",
       "\n",
       "                                               spacy  \n",
       "0                                                 []  \n",
       "1  [part, 2, alzheimer, 's, prevention, initiativ...  \n",
       "2         [part, 3, trial, colombia, we, high, risk]  \n",
       "3  [part, 4, share, prevention, trial, devil, det...  \n",
       "4                 [drug, selection, privacy, please]  "
      ]
     },
     "execution_count": 16,
     "metadata": {},
     "output_type": "execute_result"
    }
   ],
   "source": [
    "# lemmatize with POS tags applied\n",
    "# use spaCy to do this in a more streamlined fashion than NLTK # https://www.machinelearningplus.com/nlp/lemmatization-examples-python/#wordnetlemmatizerwithappropriatepostag\n",
    "\n",
    "!pip3 install spacy\n",
    "!spacy download en_core_web_sm\n",
    "\n",
    "import spacy \n",
    "\n",
    "nlp = spacy.load(\"en_core_web_sm\", disable=['parser', 'ner'])\n",
    "\n",
    "def lemmatize(l):\n",
    "    '''use context-aware lemmatization from spacy on cleaned and stopword-removed tokens'''\n",
    "    string = ' '.join(l) \n",
    "    doc = nlp(string)\n",
    "    tokens = [token.lemma_ for token in doc]\n",
    "    return tokens\n",
    "\n",
    "articles['spacy'] = articles['section_title_tokenized_stop_rem'].progress_apply(lemmatize)\n",
    "\n",
    "articles.head()"
   ]
  },
  {
   "cell_type": "code",
   "execution_count": null,
   "id": "23febaca",
   "metadata": {},
   "outputs": [],
   "source": [
    "articles.to_pickle('./interim/articles_lemmatized.pkl')"
   ]
  },
  {
   "cell_type": "code",
   "execution_count": null,
   "id": "06e4dedb",
   "metadata": {},
   "outputs": [],
   "source": [
    "# n-grams for terms in section titles"
   ]
  },
  {
   "cell_type": "code",
   "execution_count": null,
   "id": "f0b8d3ed",
   "metadata": {},
   "outputs": [],
   "source": [
    "'''\n",
    "https://benalexkeen.com/basic-language-processing-with-nltk/\n",
    "https://towardsdatascience.com/building-a-text-normalizer-using-nltk-ft-pos-tagger-e713e611db8\n",
    "https://machinelearningmastery.com/clean-text-machine-learning-python/\n",
    "\n",
    "TODO:\n",
    "n-grams for terms in section titles\n",
    "Check that all documents are in English\n",
    "Standardize section names\n",
    "Count section names\n",
    "\n",
    "For each dataset name, find relevant sentences containing said dataset\n",
    "    What section do they appear in?\n",
    "    How often in each article is the dataset named?\n",
    "\n",
    "In the \"train\" dataset - what are the features of articles found to have cited a dataset?\n",
    "'''\n",
    "    \n"
   ]
  }
 ],
 "metadata": {
  "kernelspec": {
   "display_name": "Python 3",
   "language": "python",
   "name": "python3"
  },
  "language_info": {
   "codemirror_mode": {
    "name": "ipython",
    "version": 3
   },
   "file_extension": ".py",
   "mimetype": "text/x-python",
   "name": "python",
   "nbconvert_exporter": "python",
   "pygments_lexer": "ipython3",
   "version": "3.9.2"
  }
 },
 "nbformat": 4,
 "nbformat_minor": 5
}
