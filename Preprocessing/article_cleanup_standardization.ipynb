{
 "cells": [
  {
   "cell_type": "code",
   "execution_count": 10,
   "id": "44841e9f",
   "metadata": {},
   "outputs": [
    {
     "name": "stdout",
     "output_type": "stream",
     "text": [
      "Requirement already satisfied: pickle5 in /Users/s.konkiel/opt/anaconda3/envs/kaggle_ci/lib/python3.9/site-packages (0.0.11)\n",
      "Requirement already satisfied: pandas in /Users/s.konkiel/opt/anaconda3/envs/kaggle_ci/lib/python3.9/site-packages (1.2.4)\n",
      "Requirement already satisfied: numpy>=1.16.5 in /Users/s.konkiel/opt/anaconda3/envs/kaggle_ci/lib/python3.9/site-packages (from pandas) (1.20.2)\n",
      "Requirement already satisfied: pytz>=2017.3 in /Users/s.konkiel/opt/anaconda3/envs/kaggle_ci/lib/python3.9/site-packages (from pandas) (2021.1)\n",
      "Requirement already satisfied: python-dateutil>=2.7.3 in /Users/s.konkiel/opt/anaconda3/envs/kaggle_ci/lib/python3.9/site-packages (from pandas) (2.8.1)\n",
      "Requirement already satisfied: six>=1.5 in /Users/s.konkiel/opt/anaconda3/envs/kaggle_ci/lib/python3.9/site-packages (from python-dateutil>=2.7.3->pandas) (1.15.0)\n"
     ]
    }
   ],
   "source": [
    "!pip3 install pickle5 pandas\n",
    "\n",
    "import pickle5 as pickle\n",
    "import pandas as pd\n",
    "\n",
    "# Load saved data\n",
    "with open(\"../getting_started/articles_df.pkl\", \"rb\") as fh:\n",
    "    articles = pickle.load(fh)"
   ]
  },
  {
   "cell_type": "code",
   "execution_count": 2,
   "id": "0670348a",
   "metadata": {},
   "outputs": [
    {
     "data": {
      "text/html": [
       "<div>\n",
       "<style scoped>\n",
       "    .dataframe tbody tr th:only-of-type {\n",
       "        vertical-align: middle;\n",
       "    }\n",
       "\n",
       "    .dataframe tbody tr th {\n",
       "        vertical-align: top;\n",
       "    }\n",
       "\n",
       "    .dataframe thead th {\n",
       "        text-align: right;\n",
       "    }\n",
       "</style>\n",
       "<table border=\"1\" class=\"dataframe\">\n",
       "  <thead>\n",
       "    <tr style=\"text-align: right;\">\n",
       "      <th></th>\n",
       "      <th>section_title</th>\n",
       "      <th>text</th>\n",
       "      <th>article_id</th>\n",
       "    </tr>\n",
       "  </thead>\n",
       "  <tbody>\n",
       "    <tr>\n",
       "      <th>0</th>\n",
       "      <td></td>\n",
       "      <td>On 26 January 2010, at an ordinary airport hot...</td>\n",
       "      <td>0213936a-340f-47cf-a5e6-2ca353343a77</td>\n",
       "    </tr>\n",
       "    <tr>\n",
       "      <th>1</th>\n",
       "      <td>PART 2: CAN ALZHEIMER'S PREVENTION INITIATIVE ...</td>\n",
       "      <td>Reiman was not alone in thinking about such tr...</td>\n",
       "      <td>0213936a-340f-47cf-a5e6-2ca353343a77</td>\n",
       "    </tr>\n",
       "    <tr>\n",
       "      <th>2</th>\n",
       "      <td>PART 3: TRIALS IN COLOMBIA AND THE U.S. FOR TH...</td>\n",
       "      <td>During two recent all-day discussions with aca...</td>\n",
       "      <td>0213936a-340f-47cf-a5e6-2ca353343a77</td>\n",
       "    </tr>\n",
       "    <tr>\n",
       "      <th>3</th>\n",
       "      <td>PART 4: FOR SHARED PREVENTION TRIALS, DEVIL IS...</td>\n",
       "      <td>In Phoenix, a roomful of senior industry and a...</td>\n",
       "      <td>0213936a-340f-47cf-a5e6-2ca353343a77</td>\n",
       "    </tr>\n",
       "    <tr>\n",
       "      <th>4</th>\n",
       "      <td>Drug Selection: Can We Have Privacy, Please!</td>\n",
       "      <td>If anyone was hoping that representatives from...</td>\n",
       "      <td>0213936a-340f-47cf-a5e6-2ca353343a77</td>\n",
       "    </tr>\n",
       "  </tbody>\n",
       "</table>\n",
       "</div>"
      ],
      "text/plain": [
       "                                       section_title  \\\n",
       "0                                                      \n",
       "1  PART 2: CAN ALZHEIMER'S PREVENTION INITIATIVE ...   \n",
       "2  PART 3: TRIALS IN COLOMBIA AND THE U.S. FOR TH...   \n",
       "3  PART 4: FOR SHARED PREVENTION TRIALS, DEVIL IS...   \n",
       "4       Drug Selection: Can We Have Privacy, Please!   \n",
       "\n",
       "                                                text  \\\n",
       "0  On 26 January 2010, at an ordinary airport hot...   \n",
       "1  Reiman was not alone in thinking about such tr...   \n",
       "2  During two recent all-day discussions with aca...   \n",
       "3  In Phoenix, a roomful of senior industry and a...   \n",
       "4  If anyone was hoping that representatives from...   \n",
       "\n",
       "                             article_id  \n",
       "0  0213936a-340f-47cf-a5e6-2ca353343a77  \n",
       "1  0213936a-340f-47cf-a5e6-2ca353343a77  \n",
       "2  0213936a-340f-47cf-a5e6-2ca353343a77  \n",
       "3  0213936a-340f-47cf-a5e6-2ca353343a77  \n",
       "4  0213936a-340f-47cf-a5e6-2ca353343a77  "
      ]
     },
     "execution_count": 2,
     "metadata": {},
     "output_type": "execute_result"
    }
   ],
   "source": [
    "articles.head()"
   ]
  },
  {
   "cell_type": "code",
   "execution_count": 12,
   "id": "a5c15d00",
   "metadata": {},
   "outputs": [
    {
     "data": {
      "text/plain": [
       "introduction              8649\n",
       "abstract                  8343\n",
       "results                   6420\n",
       "discussion                6139\n",
       "                          4274\n",
       "methods                   3158\n",
       "conclusion                2911\n",
       "conclusions               2533\n",
       "materials and methods     1554\n",
       "statistical analysis      1121\n",
       "data                       948\n",
       "participants               834\n",
       "background                 823\n",
       "method                     799\n",
       "limitations                620\n",
       "results and discussion     579\n",
       "measures                   568\n",
       "summary                    553\n",
       "statistical analyses       535\n",
       "methodology                530\n",
       "data analysis              528\n",
       "acknowledgments            416\n",
       "subjects                   407\n",
       "i. introduction            368\n",
       "author contributions       344\n",
       "data and methods           339\n",
       "literature review          309\n",
       "5                          302\n",
       "2                          295\n",
       "funding                    275\n",
       "Name: section_title, dtype: int64"
      ]
     },
     "execution_count": 12,
     "metadata": {},
     "output_type": "execute_result"
    }
   ],
   "source": [
    "articles['section_title'].str.lower().value_counts()[:30]"
   ]
  },
  {
   "cell_type": "code",
   "execution_count": null,
   "id": "f0b8d3ed",
   "metadata": {},
   "outputs": [],
   "source": [
    "'''\n",
    "TODO:\n",
    "Standardize section names\n",
    "Count section names\n",
    "number of sections per article (mean, distribution)\n",
    "\n",
    "Convert article text to lowercase\n",
    "\n",
    "For each dataset name, find relevant sentences containing said dataset\n",
    "    What section do they appear in?\n",
    "    How often in each article is the dataset named?\n",
    "\n",
    "What are the top orgs in dataset titles?\n",
    "\n",
    "In the \"train\" dataset - what are the features of articles found to have cited a dataset?\n",
    "'''\n",
    "    \n"
   ]
  }
 ],
 "metadata": {
  "kernelspec": {
   "display_name": "Python 3",
   "language": "python",
   "name": "python3"
  },
  "language_info": {
   "codemirror_mode": {
    "name": "ipython",
    "version": 3
   },
   "file_extension": ".py",
   "mimetype": "text/x-python",
   "name": "python",
   "nbconvert_exporter": "python",
   "pygments_lexer": "ipython3",
   "version": "3.9.2"
  }
 },
 "nbformat": 4,
 "nbformat_minor": 5
}
